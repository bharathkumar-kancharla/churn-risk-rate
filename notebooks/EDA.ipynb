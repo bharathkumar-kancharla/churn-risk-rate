{
 "metadata": {
  "language_info": {
   "codemirror_mode": {
    "name": "ipython",
    "version": 3
   },
   "file_extension": ".py",
   "mimetype": "text/x-python",
   "name": "python",
   "nbconvert_exporter": "python",
   "pygments_lexer": "ipython3",
   "version": "3.7.10-final"
  },
  "orig_nbformat": 2,
  "kernelspec": {
   "name": "python3",
   "display_name": "Python 3.7.10 64-bit ('lose_a_customer': conda)",
   "metadata": {
    "interpreter": {
     "hash": "4424b2ccda11d8bee828455260acd825d57a6cfe31c96b77ae37dde3eb539f0c"
    }
   }
  }
 },
 "nbformat": 4,
 "nbformat_minor": 2,
 "cells": [
  {
   "cell_type": "code",
   "execution_count": 3,
   "metadata": {},
   "outputs": [],
   "source": [
    "import os\n",
    "import pandas as pd\n",
    "import numpy as numpy\n",
    "import matplotlib.pyplot as plt \n",
    "import seaborn as sns "
   ]
  },
  {
   "cell_type": "code",
   "execution_count": 9,
   "metadata": {},
   "outputs": [],
   "source": [
    "DATA_DIR = r\"D:\\Data Science World\\Challenges\\Hacker Earth\\How NOT to lose a customer in 10 days\\data_given\""
   ]
  },
  {
   "cell_type": "code",
   "execution_count": 10,
   "metadata": {},
   "outputs": [
    {
     "output_type": "execute_result",
     "data": {
      "text/plain": [
       "                            customer_id              Name  age gender  \\\n",
       "0      fffe4300490044003600300030003800   Pattie Morrisey   18      F   \n",
       "1  fffe43004900440032003100300035003700       Traci Peery   32      F   \n",
       "2      fffe4300490044003100390032003600   Merideth Mcmeen   44      F   \n",
       "3  fffe43004900440036003000330031003600  Eufemia Cardwell   37      M   \n",
       "4  fffe43004900440031003900350030003600      Meghan Kosak   31      F   \n",
       "\n",
       "  security_no region_category  membership_category joining_date  \\\n",
       "0     XW0DQ7H         Village  Platinum Membership   2017-08-17   \n",
       "1     5K0N3X1            City   Premium Membership   2017-08-28   \n",
       "2     1F2TCL3            Town        No Membership   2016-11-11   \n",
       "3     VJGJ33N            City        No Membership   2016-10-29   \n",
       "4     SVZXCWB            City        No Membership   2017-09-12   \n",
       "\n",
       "  joined_through_referral referral_id  ... avg_time_spent  \\\n",
       "0                      No    xxxxxxxx  ...         300.63   \n",
       "1                       ?    CID21329  ...         306.34   \n",
       "2                     Yes    CID12313  ...         516.16   \n",
       "3                     Yes     CID3793  ...          53.27   \n",
       "4                      No    xxxxxxxx  ...         113.13   \n",
       "\n",
       "  avg_transaction_value avg_frequency_login_days points_in_wallet  \\\n",
       "0              53005.25                     17.0           781.75   \n",
       "1              12838.38                     10.0              NaN   \n",
       "2              21027.00                     22.0           500.69   \n",
       "3              25239.56                      6.0           567.66   \n",
       "4              24483.66                     16.0           663.06   \n",
       "\n",
       "   used_special_discount  offer_application_preference  past_complaint  \\\n",
       "0                    Yes                           Yes              No   \n",
       "1                    Yes                            No             Yes   \n",
       "2                     No                           Yes             Yes   \n",
       "3                     No                           Yes             Yes   \n",
       "4                     No                           Yes             Yes   \n",
       "\n",
       "      complaint_status                  feedback churn_risk_score  \n",
       "0       Not Applicable  Products always in Stock                2  \n",
       "1               Solved     Quality Customer Care                1  \n",
       "2  Solved in Follow-up              Poor Website                5  \n",
       "3             Unsolved              Poor Website                5  \n",
       "4               Solved              Poor Website                5  \n",
       "\n",
       "[5 rows x 25 columns]"
      ],
      "text/html": "<div>\n<style scoped>\n    .dataframe tbody tr th:only-of-type {\n        vertical-align: middle;\n    }\n\n    .dataframe tbody tr th {\n        vertical-align: top;\n    }\n\n    .dataframe thead th {\n        text-align: right;\n    }\n</style>\n<table border=\"1\" class=\"dataframe\">\n  <thead>\n    <tr style=\"text-align: right;\">\n      <th></th>\n      <th>customer_id</th>\n      <th>Name</th>\n      <th>age</th>\n      <th>gender</th>\n      <th>security_no</th>\n      <th>region_category</th>\n      <th>membership_category</th>\n      <th>joining_date</th>\n      <th>joined_through_referral</th>\n      <th>referral_id</th>\n      <th>...</th>\n      <th>avg_time_spent</th>\n      <th>avg_transaction_value</th>\n      <th>avg_frequency_login_days</th>\n      <th>points_in_wallet</th>\n      <th>used_special_discount</th>\n      <th>offer_application_preference</th>\n      <th>past_complaint</th>\n      <th>complaint_status</th>\n      <th>feedback</th>\n      <th>churn_risk_score</th>\n    </tr>\n  </thead>\n  <tbody>\n    <tr>\n      <th>0</th>\n      <td>fffe4300490044003600300030003800</td>\n      <td>Pattie Morrisey</td>\n      <td>18</td>\n      <td>F</td>\n      <td>XW0DQ7H</td>\n      <td>Village</td>\n      <td>Platinum Membership</td>\n      <td>2017-08-17</td>\n      <td>No</td>\n      <td>xxxxxxxx</td>\n      <td>...</td>\n      <td>300.63</td>\n      <td>53005.25</td>\n      <td>17.0</td>\n      <td>781.75</td>\n      <td>Yes</td>\n      <td>Yes</td>\n      <td>No</td>\n      <td>Not Applicable</td>\n      <td>Products always in Stock</td>\n      <td>2</td>\n    </tr>\n    <tr>\n      <th>1</th>\n      <td>fffe43004900440032003100300035003700</td>\n      <td>Traci Peery</td>\n      <td>32</td>\n      <td>F</td>\n      <td>5K0N3X1</td>\n      <td>City</td>\n      <td>Premium Membership</td>\n      <td>2017-08-28</td>\n      <td>?</td>\n      <td>CID21329</td>\n      <td>...</td>\n      <td>306.34</td>\n      <td>12838.38</td>\n      <td>10.0</td>\n      <td>NaN</td>\n      <td>Yes</td>\n      <td>No</td>\n      <td>Yes</td>\n      <td>Solved</td>\n      <td>Quality Customer Care</td>\n      <td>1</td>\n    </tr>\n    <tr>\n      <th>2</th>\n      <td>fffe4300490044003100390032003600</td>\n      <td>Merideth Mcmeen</td>\n      <td>44</td>\n      <td>F</td>\n      <td>1F2TCL3</td>\n      <td>Town</td>\n      <td>No Membership</td>\n      <td>2016-11-11</td>\n      <td>Yes</td>\n      <td>CID12313</td>\n      <td>...</td>\n      <td>516.16</td>\n      <td>21027.00</td>\n      <td>22.0</td>\n      <td>500.69</td>\n      <td>No</td>\n      <td>Yes</td>\n      <td>Yes</td>\n      <td>Solved in Follow-up</td>\n      <td>Poor Website</td>\n      <td>5</td>\n    </tr>\n    <tr>\n      <th>3</th>\n      <td>fffe43004900440036003000330031003600</td>\n      <td>Eufemia Cardwell</td>\n      <td>37</td>\n      <td>M</td>\n      <td>VJGJ33N</td>\n      <td>City</td>\n      <td>No Membership</td>\n      <td>2016-10-29</td>\n      <td>Yes</td>\n      <td>CID3793</td>\n      <td>...</td>\n      <td>53.27</td>\n      <td>25239.56</td>\n      <td>6.0</td>\n      <td>567.66</td>\n      <td>No</td>\n      <td>Yes</td>\n      <td>Yes</td>\n      <td>Unsolved</td>\n      <td>Poor Website</td>\n      <td>5</td>\n    </tr>\n    <tr>\n      <th>4</th>\n      <td>fffe43004900440031003900350030003600</td>\n      <td>Meghan Kosak</td>\n      <td>31</td>\n      <td>F</td>\n      <td>SVZXCWB</td>\n      <td>City</td>\n      <td>No Membership</td>\n      <td>2017-09-12</td>\n      <td>No</td>\n      <td>xxxxxxxx</td>\n      <td>...</td>\n      <td>113.13</td>\n      <td>24483.66</td>\n      <td>16.0</td>\n      <td>663.06</td>\n      <td>No</td>\n      <td>Yes</td>\n      <td>Yes</td>\n      <td>Solved</td>\n      <td>Poor Website</td>\n      <td>5</td>\n    </tr>\n  </tbody>\n</table>\n<p>5 rows × 25 columns</p>\n</div>"
     },
     "metadata": {},
     "execution_count": 10
    }
   ],
   "source": [
    "train_df = pd.read_csv(os.path.join(DATA_DIR,\"train.csv\"))\n",
    "train_df.head()"
   ]
  },
  {
   "cell_type": "code",
   "execution_count": 8,
   "metadata": {},
   "outputs": [
    {
     "output_type": "execute_result",
     "data": {
      "text/plain": [
       "((36992, 25),\n",
       " Index(['customer_id', 'Name', 'age', 'gender', 'security_no',\n",
       "        'region_category', 'membership_category', 'joining_date',\n",
       "        'joined_through_referral', 'referral_id', 'preferred_offer_types',\n",
       "        'medium_of_operation', 'internet_option', 'last_visit_time',\n",
       "        'days_since_last_login', 'avg_time_spent', 'avg_transaction_value',\n",
       "        'avg_frequency_login_days', 'points_in_wallet', 'used_special_discount',\n",
       "        'offer_application_preference', 'past_complaint', 'complaint_status',\n",
       "        'feedback', 'churn_risk_score'],\n",
       "       dtype='object'))"
      ]
     },
     "metadata": {},
     "execution_count": 8
    }
   ],
   "source": [
    "train_df.shape, train_df.columns"
   ]
  },
  {
   "cell_type": "code",
   "execution_count": 11,
   "metadata": {},
   "outputs": [
    {
     "output_type": "execute_result",
     "data": {
      "text/plain": [
       "(19919, 24)"
      ]
     },
     "metadata": {},
     "execution_count": 11
    }
   ],
   "source": [
    "test_df = pd.read_csv(os.path.join(DATA_DIR,\"test.csv\"))\n",
    "test_df.shape"
   ]
  },
  {
   "cell_type": "code",
   "execution_count": 12,
   "metadata": {},
   "outputs": [
    {
     "output_type": "execute_result",
     "data": {
      "text/plain": [
       "customer_id                        0\n",
       "Name                               0\n",
       "age                                0\n",
       "gender                             0\n",
       "security_no                        0\n",
       "region_category                 5428\n",
       "membership_category                0\n",
       "joining_date                       0\n",
       "joined_through_referral            0\n",
       "referral_id                        0\n",
       "preferred_offer_types            288\n",
       "medium_of_operation                0\n",
       "internet_option                    0\n",
       "last_visit_time                    0\n",
       "days_since_last_login              0\n",
       "avg_time_spent                     0\n",
       "avg_transaction_value              0\n",
       "avg_frequency_login_days           0\n",
       "points_in_wallet                3443\n",
       "used_special_discount              0\n",
       "offer_application_preference       0\n",
       "past_complaint                     0\n",
       "complaint_status                   0\n",
       "feedback                           0\n",
       "churn_risk_score                   0\n",
       "dtype: int64"
      ]
     },
     "metadata": {},
     "execution_count": 12
    }
   ],
   "source": [
    "train_df.isnull().sum()"
   ]
  },
  {
   "cell_type": "code",
   "execution_count": null,
   "metadata": {},
   "outputs": [],
   "source": []
  }
 ]
}